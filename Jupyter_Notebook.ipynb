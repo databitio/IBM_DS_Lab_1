{
  "cells": [
    {
      "cell_type": "markdown",
      "metadata": {
        "id": "d18bjgv_lPZ1"
      },
      "source": [
        "<center>\n",
        "    <img src=\"https://cf-courses-data.s3.us.cloud-object-storage.appdomain.cloud/IBMDeveloperSkillsNetwork-DS0105EN-SkillsNetwork/labs/Module2/images/SN_web_lightmode.png\" width=\"300\" alt=\"cognitiveclass.ai logo\"  />\n",
        "</center>\n"
      ]
    },
    {
      "cell_type": "markdown",
      "metadata": {
        "id": "u6nakxF_lPZ3"
      },
      "source": [
        "#### Add your code below following the instructions given in the course\n"
      ]
    },
    {
      "cell_type": "markdown",
      "source": [
        "# My Jupyter Notebook on IBM Watson Studio"
      ],
      "metadata": {
        "id": "JJO0K525lPZ3"
      }
    },
    {
      "cell_type": "markdown",
      "source": [
        "<b>John McCain</b><br>\n",
        "Research Scientist"
      ],
      "metadata": {
        "id": "eza41hN7mAPQ"
      }
    },
    {
      "cell_type": "markdown",
      "source": [
        "I am interested in data science because it provides answers beyond what humans are capable of and extends our understanding of the universe."
      ],
      "metadata": {
        "id": "ev5lG8FTmv-j"
      }
    },
    {
      "cell_type": "markdown",
      "source": [
        "### Keeping with the data science theme, I will now compute just how powerful Jupter Notebooks can be: Adding 2 numbers together and producing a result"
      ],
      "metadata": {
        "id": "4B3Oi_P9nBRN"
      }
    },
    {
      "cell_type": "code",
      "source": [
        "result = 1+1\n",
        "result"
      ],
      "metadata": {
        "colab": {
          "base_uri": "https://localhost:8080/"
        },
        "id": "SSArvEWAnbIy",
        "outputId": "20ebdc60-572e-4d16-d1be-cf5050a29b4c"
      },
      "execution_count": null,
      "outputs": [
        {
          "output_type": "execute_result",
          "data": {
            "text/plain": [
              "2"
            ]
          },
          "metadata": {},
          "execution_count": 3
        }
      ]
    },
    {
      "cell_type": "markdown",
      "source": [
        "<ul>\n",
        "<li>The <del>above</del> is <em>magic</em> </li>\n",
        "<li></li>\n",
        "</ul>"
      ],
      "metadata": {
        "id": "GDYTm3D_nj8W"
      }
    }
  ],
  "metadata": {
    "kernelspec": {
      "display_name": "Python 3",
      "language": "python",
      "name": "python3"
    },
    "language_info": {
      "codemirror_mode": {
        "name": "ipython",
        "version": 3
      },
      "file_extension": ".py",
      "mimetype": "text/x-python",
      "name": "python",
      "nbconvert_exporter": "python",
      "pygments_lexer": "ipython3",
      "version": "3.7.6"
    },
    "colab": {
      "provenance": []
    }
  },
  "nbformat": 4,
  "nbformat_minor": 0
}